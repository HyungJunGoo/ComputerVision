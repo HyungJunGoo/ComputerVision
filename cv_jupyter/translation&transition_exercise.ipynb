{
  "nbformat": 4,
  "nbformat_minor": 0,
  "metadata": {
    "colab": {
      "name": "translation&transition_exercise.ipynb",
      "provenance": [],
      "authorship_tag": "ABX9TyNcst+ryIiwXdGh2C6SpWjG",
      "include_colab_link": true
    },
    "kernelspec": {
      "name": "python3",
      "display_name": "Python 3"
    }
  },
  "cells": [
    {
      "cell_type": "markdown",
      "metadata": {
        "id": "view-in-github",
        "colab_type": "text"
      },
      "source": [
        "<a href=\"https://colab.research.google.com/github/HyungJunGoo/ComputerVision/blob/main/translation%26transition_exercise.ipynb\" target=\"_parent\"><img src=\"https://colab.research.google.com/assets/colab-badge.svg\" alt=\"Open In Colab\"/></a>"
      ]
    },
    {
      "cell_type": "markdown",
      "metadata": {
        "id": "qWLRjS085puy"
      },
      "source": [
        "# 영상 변환"
      ]
    },
    {
      "cell_type": "code",
      "metadata": {
        "id": "X7EvA11B5aod",
        "outputId": "737f3653-a2a2-4c62-90d5-4b05d878e206",
        "colab": {
          "base_uri": "https://localhost:8080/",
          "height": 35
        }
      },
      "source": [
        "import matplotlib.pyplot as plt\n",
        "%matplotlib inline\n",
        "import numpy as np\n",
        "import cv2\n",
        "\n",
        "from keras.datasets import mnist\n",
        "(x_train, y_train), (x_test, y_test) = mnist.load_data()\n",
        "img = x_train[0]\n",
        "height, width = img.shape\n",
        "print(height, width)"
      ],
      "execution_count": null,
      "outputs": [
        {
          "output_type": "stream",
          "text": [
            "28 28\n"
          ],
          "name": "stdout"
        }
      ]
    },
    {
      "cell_type": "markdown",
      "metadata": {
        "id": "REbwzYdo7AN6"
      },
      "source": [
        "영상의 이동"
      ]
    },
    {
      "cell_type": "code",
      "metadata": {
        "id": "UbWChtZn6_HF",
        "outputId": "a3b85e9d-04ce-4811-b6bf-5aa9c71fcfac",
        "colab": {
          "base_uri": "https://localhost:8080/",
          "height": 403
        }
      },
      "source": [
        "translated_img = np.zeros([height, width], dtype=np.uint8)\n",
        "\n",
        "tx = 3\n",
        "ty = 5\n",
        "\n",
        "for i in range(height):\n",
        "    for j in range(width):\n",
        "        new_x = j + tx\n",
        "        new_y = i + ty\n",
        "        if (new_x >= 0 and new_y >= 0 and new_x < width and new_y < height):\n",
        "            translated_img[new_y][new_x] = img[i][j]\n",
        "\n",
        "plt.figure(figsize=(14,7))\n",
        "\n",
        "plt.subplot(121)\n",
        "plt.imshow(img, cmap='gray')\n",
        "\n",
        "plt.subplot(122)\n",
        "plt.imshow(translated_img, cmap='gray')\n",
        "\n",
        "plt.show()"
      ],
      "execution_count": null,
      "outputs": [
        {
          "output_type": "display_data",
          "data": {
            "image/png": "[encoded data removed]",
            "text/plain": [
              "<Figure size 1008x504 with 2 Axes>"
            ]
          },
          "metadata": {
            "tags": [],
            "needs_background": "light"
          }
        }
      ]
    },
    {
      "cell_type": "markdown",
      "metadata": {
        "id": "lfVGY9f7-FSq"
      },
      "source": [
        "영상의 회전"
      ]
    },
    {
      "cell_type": "code",
      "metadata": {
        "id": "Mmq7Bovz-HSD",
        "outputId": "f4625173-ce8a-4df6-d390-261879f27850",
        "colab": {
          "base_uri": "https://localhost:8080/",
          "height": 403
        }
      },
      "source": [
        "translated_img = np.zeros([height,width],dtype=np.uint8) \n",
        "\n",
        "rotation_degree = (2*np.pi*30)/360 #30도 회전\n",
        "\n",
        "rotation_matrics = [[np.cos(rotation_degree), -np.sin(rotation_degree)],[np.sin(rotation_degree), np.cos(rotation_degree)]]\n",
        "\n",
        "\n",
        "for i in range(height):\n",
        "  for j in range(width):\n",
        "    point_array = [[j],[i]]\n",
        "    calculated_array = np.matmul(rotation_matrics, point_array)\n",
        "    new_x = int(calculated_array[0])\n",
        "    new_y = int(calculated_array[1])\n",
        "\n",
        "    if (new_x >= 0 and new_y >= 0 and new_x < width and new_y < height):\n",
        "        translated_img[new_y][new_x] = img[i][j]\n",
        "\n",
        "plt.figure(figsize=(14,7))\n",
        "\n",
        "plt.subplot(121)\n",
        "plt.imshow(img, cmap='gray')\n",
        "plt.subplot(122)\n",
        "plt.imshow(translated_img, cmap='gray')\n",
        "\n",
        "plt.show()"
      ],
      "execution_count": null,
      "outputs": [
        {
          "output_type": "display_data",
          "data": {
            "image/png": "[encoded data removed]",
            "text/plain": [
              "<Figure size 1008x504 with 2 Axes>"
            ]
          },
          "metadata": {
            "tags": [],
            "needs_background": "light"
          }
        }
      ]
    },
    {
      "cell_type": "markdown",
      "metadata": {
        "id": "XPh03E1p_4V5"
      },
      "source": [
        "영상의 이동과 회전을 동시에 적용"
      ]
    },
    {
      "cell_type": "code",
      "metadata": {
        "id": "K9Rk2GYi_8a8",
        "outputId": "491f9d5e-2e97-423f-f2e8-a2275240c5c9",
        "colab": {
          "base_uri": "https://localhost:8080/",
          "height": 403
        }
      },
      "source": [
        "translated_img = np.zeros([height, width], dtype=np.uint8)\n",
        "\n",
        "rotation_degree = (2*np.pi*30)/360\n",
        "\n",
        "rotation_matrics = [[np.cos(rotation_degree), -np.sin(rotation_degree)],\n",
        "                    [np.sin(rotation_degree), np.cos(rotation_degree)]]\n",
        "tx = 3\n",
        "ty = 5\n",
        "\n",
        "for i in range(height):\n",
        "    for j in range(width):\n",
        "        point_array = [[j],[i]]\n",
        "        calculated_array = np.matmul(rotation_matrics, point_array)\n",
        "        new_x = int(calculated_array[0]) + tx\n",
        "        new_y = int(calculated_array[1]) + ty\n",
        "\n",
        "        if (new_x >= 0 and new_y >= 0 and new_x < width and new_y < height):\n",
        "            translated_img[new_y][new_x] = img[i][j]\n",
        "\n",
        "plt.figure(figsize=(14,7))\n",
        "\n",
        "plt.subplot(121)\n",
        "plt.imshow(img, cmap='gray')\n",
        "\n",
        "plt.subplot(122)\n",
        "plt.imshow(translated_img, cmap='gray')\n",
        "\n",
        "plt.show()"
      ],
      "execution_count": null,
      "outputs": [
        {
          "output_type": "display_data",
          "data": {
            "image/png": "[encoded data removed]",
            "text/plain": [
              "<Figure size 1008x504 with 2 Axes>"
            ]
          },
          "metadata": {
            "tags": [],
            "needs_background": "light"
          }
        }
      ]
    }
  ]
}