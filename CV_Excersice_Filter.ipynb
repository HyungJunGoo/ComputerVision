{
  "nbformat": 4,
  "nbformat_minor": 0,
  "metadata": {
    "colab": {
      "name": "CV Excersice Filter",
      "provenance": [],
      "authorship_tag": "ABX9TyPFrfgGs/d2Nrqf36/ncs1g",
      "include_colab_link": true
    },
    "kernelspec": {
      "name": "python3",
      "display_name": "Python 3"
    }
  },
  "cells": [
    {
      "cell_type": "markdown",
      "metadata": {
        "id": "view-in-github",
        "colab_type": "text"
      },
      "source": [
        "<a href=\"https://colab.research.google.com/github/HyungJunGoo/ComputerVision/blob/main/CV_Excersice_Filter.ipynb\" target=\"_parent\"><img src=\"https://colab.research.google.com/assets/colab-badge.svg\" alt=\"Open In Colab\"/></a>"
      ]
    },
    {
      "cell_type": "markdown",
      "metadata": {
        "id": "FTzWlLT9LubM"
      },
      "source": [
        "# Image Filtering\n",
        "\n",
        "영상에 다양한 필터를 적용하여 영상으로부터의 효과를 알기 위한 실험을 진행"
      ]
    },
    {
      "cell_type": "code",
      "metadata": {
        "id": "ysh58FSWK0Fy",
        "outputId": "9518df71-3f0e-4276-b761-50e76525901b",
        "colab": {
          "base_uri": "https://localhost:8080/",
          "height": 71
        }
      },
      "source": [
        "import matplotlib.pyplot as plt\n",
        "%matplotlib inline\n",
        "import numpy as np\n",
        "import cv2\n",
        "\n",
        "from keras.datasets import mnist\n",
        "(x_train, y_train), (x_test, y_test) = mnist.load_data()\n",
        "img = x_train[0]\n",
        "height, width = img.shape\n",
        "print(height, width)"
      ],
      "execution_count": null,
      "outputs": [
        {
          "output_type": "stream",
          "text": [
            "Downloading data from https://storage.googleapis.com/tensorflow/tf-keras-datasets/mnist.npz\n",
            "11493376/11490434 [==============================] - 0s 0us/step\n",
            "28 28\n"
          ],
          "name": "stdout"
        }
      ]
    },
    {
      "cell_type": "markdown",
      "metadata": {
        "id": "_WOLdJ0zMtyI"
      },
      "source": [
        "# Box filter\n",
        "\n",
        "주어진 영상에 3X3의 크기를 갖는 box filter를 적용한 후에 이에 대한 효과를 알아보도록 함"
      ]
    },
    {
      "cell_type": "code",
      "metadata": {
        "id": "9a11USffM39i",
        "outputId": "f2798289-50bb-495b-bcf9-048f0772a48c",
        "colab": {
          "base_uri": "https://localhost:8080/",
          "height": 107
        }
      },
      "source": [
        "kernel = np.ones((3,3), np.float32)/9\n",
        "print(kernel)\n",
        "print(kernel.shape[1])\n",
        "print(kernel.shape[0])"
      ],
      "execution_count": null,
      "outputs": [
        {
          "output_type": "stream",
          "text": [
            "[[0.11111111 0.11111111 0.11111111]\n",
            " [0.11111111 0.11111111 0.11111111]\n",
            " [0.11111111 0.11111111 0.11111111]]\n",
            "3\n",
            "3\n"
          ],
          "name": "stdout"
        }
      ]
    },
    {
      "cell_type": "markdown",
      "metadata": {
        "id": "GF17YxwC233m"
      },
      "source": [
        "# Convolution\n",
        "주어진 영상과 box filter의 convolution 연산을 통하여 smoothing 효과 구현.\n",
        "\n",
        "주의할 점 : 일번적으로 영상에서의 dtype은 uint8(0~255)이지만 현재 데이터의 값은 int32인 점 유의하기 바람"
      ]
    },
    {
      "cell_type": "code",
      "metadata": {
        "id": "G-6SHfgy3OUv",
        "outputId": "6556f060-2b5b-4263-ed08-bc3f6da521e1",
        "colab": {
          "base_uri": "https://localhost:8080/",
          "height": 403
        }
      },
      "source": [
        "filtered_img = np.zeros([height, width], dtype=np.int32)\n",
        "for i in range(1, height-1):\n",
        "    for j in range(1, width-1):\n",
        "        conv_value = 0\n",
        "        for n in range(kernel.shape[1]):\n",
        "            for m in range(kernel.shape[0]):\n",
        "                conv_value += img[i+n-1][j+m-1]*kernel[n][m]\n",
        "        filtered_img[i][j] = int(conv_value)\n",
        "\n",
        "\n",
        "plt.figure(figsize=(14,7))\n",
        "\n",
        "plt.subplot(121)\n",
        "plt.imshow(img, cmap='gray')\n",
        "\n",
        "plt.subplot(122)\n",
        "plt.imshow(filtered_img, cmap='gray')\n",
        "\n",
        "plt.show()"
      ],
      "execution_count": null,
      "outputs": [
        {
          "output_type": "display_data",
          "data": {
            "image/png": "[encoded data removed]",
            "text/plain": [
              "<Figure size 1008x504 with 2 Axes>"
            ]
          },
          "metadata": {
            "tags": [],
            "needs_background": "light"
          }
        }
      ]
    },
    {
      "cell_type": "markdown",
      "metadata": {
        "id": "1TrKQX-r8XY1"
      },
      "source": [
        "주어진 영상에 sharpening을 활용하기 위한 방법"
      ]
    },
    {
      "cell_type": "code",
      "metadata": {
        "id": "hWpI_NcR8bGp",
        "outputId": "d4b87bb1-5733-4c71-a17b-dbab73ff3783",
        "colab": {
          "base_uri": "https://localhost:8080/",
          "height": 421
        }
      },
      "source": [
        "sharp_kernel = np.array(([0, -1, 0], [-1, 4, -1], [0, -1, 0]), np.float32)\n",
        "\n",
        "sharped_img = np.zeros([height, width], dtype=np.int32)\n",
        "\n",
        "for i in range(1, height-1):\n",
        "    for j in range(1, width-1):\n",
        "        conv_value = 0\n",
        "        for n in range(sharp_kernel.shape[1]):\n",
        "            for m in range(sharp_kernel.shape[0]):\n",
        "                conv_value += img[i+n-1][j+m-1]*sharp_kernel[n][m]\n",
        "        sharped_img[i][j] = int(conv_value)\n",
        "\n",
        "\n",
        "plt.figure(figsize=(14,7))\n",
        "\n",
        "plt.subplot(121)\n",
        "plt.imshow(img, cmap='gray')\n",
        "\n",
        "plt.subplot(122)\n",
        "plt.imshow(sharped_img, cmap='gray')"
      ],
      "execution_count": null,
      "outputs": [
        {
          "output_type": "execute_result",
          "data": {
            "text/plain": [
              "<matplotlib.image.AxesImage at 0x7fd6daedf1d0>"
            ]
          },
          "metadata": {
            "tags": []
          },
          "execution_count": 7
        },
        {
          "output_type": "display_data",
          "data": {
            "image/png": "[encoded data removed]",
            "text/plain": [
              "<Figure size 1008x504 with 2 Axes>"
            ]
          },
          "metadata": {
            "tags": [],
            "needs_background": "light"
          }
        }
      ]
    },
    {
      "cell_type": "markdown",
      "metadata": {
        "id": "q-9M7BFe-IaJ"
      },
      "source": [
        "OpenCV 라이브러리를 이용한 영상 필터링\n",
        "*   Box filtering을 위하여 blur 명령어 사용"
      ]
    },
    {
      "cell_type": "code",
      "metadata": {
        "id": "EHpOP9QnBNKh"
      },
      "source": [
        "blur = cv2.blur(img, (3,3))"
      ],
      "execution_count": null,
      "outputs": []
    },
    {
      "cell_type": "markdown",
      "metadata": {
        "id": "d59oLqWwBT4M"
      },
      "source": [
        "OpenCV 라이브러리를 이용한 영상 필터링\n",
        "*   Gaussian filtering을 위하여 GaussianBlur명령어 사용"
      ]
    },
    {
      "cell_type": "code",
      "metadata": {
        "id": "GAJiVNv1BS2t",
        "outputId": "b1a1d0c5-23b9-4460-f45b-681589c596cc",
        "colab": {
          "base_uri": "https://localhost:8080/",
          "height": 403
        }
      },
      "source": [
        "blur_3X3 = cv2.GaussianBlur(img,(3,3), 0)\n",
        "blur_5X5 = cv2.GaussianBlur(img,(5,5), 0)\n",
        "\n",
        "plt.figure(figsize=(14,7))\n",
        "\n",
        "plt.subplot(121)\n",
        "plt.imshow(blur_3X3, cmap='gray')\n",
        "\n",
        "plt.subplot(122)\n",
        "plt.imshow(blur_5X5, cmap='gray')\n",
        "\n",
        "plt.show()"
      ],
      "execution_count": null,
      "outputs": [
        {
          "output_type": "display_data",
          "data": {
            "image/png": "[encoded data removed]",
            "text/plain": [
              "<Figure size 1008x504 with 2 Axes>"
            ]
          },
          "metadata": {
            "tags": [],
            "needs_background": "light"
          }
        }
      ]
    }
  ]
}